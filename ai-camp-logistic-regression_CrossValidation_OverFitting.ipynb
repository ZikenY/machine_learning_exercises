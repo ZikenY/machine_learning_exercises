{
 "cells": [
  {
   "cell_type": "markdown",
   "metadata": {
    "_uuid": "c21ce616a925aa879e2d55dc7ab9921ab4fdbca0"
   },
   "source": [
    "## Logistic Regression模型优化，过拟合实验，梯度检查"
   ]
  },
  {
   "cell_type": "code",
   "execution_count": 1,
   "metadata": {
    "_uuid": "c4ffb0df509bded90e744c895d8d1653345de5da"
   },
   "outputs": [],
   "source": [
    "import numpy as np\n",
    "import pandas as pd\n",
    "from patsy import dmatrices\n",
    "from sklearn.linear_model import LogisticRegression\n",
    "from sklearn.model_selection import train_test_split\n",
    "from sklearn import metrics\n",
    "import matplotlib.pyplot as plt"
   ]
  },
  {
   "cell_type": "code",
   "execution_count": 2,
   "metadata": {
    "_uuid": "5d1243ea6129fa04af13e5e67d7609d31b4a25c4"
   },
   "outputs": [],
   "source": [
    "# read data using pandas\n",
    "data = pd.read_csv(\"./HR_comma_sep.csv\")"
   ]
  },
  {
   "cell_type": "code",
   "execution_count": 3,
   "metadata": {
    "_uuid": "29b2f88b7f802e0be0ea97c3894ab1b1e9ce32b0"
   },
   "outputs": [],
   "source": [
    "# all samples, lables in X, y\n",
    "y, X = dmatrices('left~satisfaction_level+last_evaluation+number_project+average_montly_hours+time_spend_company+Work_accident+promotion_last_5years+C(sales)+C(salary)', data, return_type='dataframe')\n",
    "X = np.asmatrix(X)\n",
    "y = np.ravel(y)"
   ]
  },
  {
   "cell_type": "markdown",
   "metadata": {
    "_uuid": "7a1a1ff1ce7b1027a211d97554480b7b453fa45b"
   },
   "source": [
    "将所有列的值归一化到[0,1]区间"
   ]
  },
  {
   "cell_type": "code",
   "execution_count": 4,
   "metadata": {
    "_uuid": "d14bac22149ba3718a780c0eb8e88065bb592300"
   },
   "outputs": [],
   "source": [
    "# normalize all feature values into [0, 1]\n",
    "# X.shape[1]: feature count\n",
    "for i in range(1, X.shape[1]):\n",
    "    xmin = X[:,i].min() # get minimal value from all row for column i(feature i)\n",
    "    xmax = X[:,i].max()\n",
    "    X[:, i] = (X[:, i] - xmin) / (xmax - xmin)"
   ]
  },
  {
   "cell_type": "markdown",
   "metadata": {},
   "source": [
    "### 手写logistic regression，gradient descent 实验"
   ]
  },
  {
   "cell_type": "code",
   "execution_count": 6,
   "metadata": {
    "_uuid": "59198c3aabae5b62830bafca7fc7dd87d8eac529"
   },
   "outputs": [
    {
     "name": "stdout",
     "output_type": "stream",
     "text": [
      "T=0 loss=1.1203823278066718 error=0.5037002466831122\n",
      "T=5 loss=0.6492666637968592 error=0.2910194012934196\n",
      "T=10 loss=0.6095807663133694 error=0.26668444562970867\n",
      "T=15 loss=0.5816449211566243 error=0.25888392559503964\n",
      "Gradient Descent done.\n"
     ]
    },
    {
     "data": {
      "text/plain": [
       "'\\nT=0 loss=1.1203823278066718 error=0.5037002466831122\\nT=5 loss=0.6492666637968592 error=0.2910194012934196\\nT=10 loss=0.6095807663133694 error=0.26668444562970867\\nT=15 loss=0.5816449211566243 error=0.25888392559503964\\n            ......\\n'"
      ]
     },
     "execution_count": 6,
     "metadata": {},
     "output_type": "execute_result"
    }
   ],
   "source": [
    "np.random.seed(1)\n",
    "alpha = 1  # learning rate\n",
    "beta = np.random.randn(X.shape[1]) # initial β's all components to normal distribution\n",
    "iteration_count = 200\n",
    "losses = list()  # collect loss for each iteration\n",
    "errors = list()  # collect error rate for each iteration\n",
    "\n",
    "for T in range(iteration_count):\n",
    "    # prob = 1 / (1 + exp(-β0*X0 - β1*X1 - β2*X2...... - βn*Xn))   \n",
    "    #                             matrix_X：n*m； vector β：size=m\n",
    "    # the following \"1.\" will be expanded to m-Dimension automatically   \n",
    "    prob = np.array(1. / (1 + np.exp(-np.matmul(X, beta)))) # prob is the \"scoring function\"\n",
    "#    print('prob.shape: ', prob.shape) # (1, 14999)\n",
    "    prob = prob.ravel()\n",
    "#    print('prob.shape(after .ravel()): ', prob.shape) # (14999,)    \n",
    "\n",
    "    # zip each \"sample -> score\" pair\n",
    "    prob_y = list(zip(prob, y))\n",
    "#    print('prob_y: ', prob_y)  # [(0.8563635682985654, 1.0), (0.11839265197520915, 1.0), .......]\n",
    "    \n",
    "    # compute cross_entropy loss. (along each dimension)\n",
    "    loss = -sum([np.log(p) if y == 1 else np.log(1 - p) for p, y in prob_y]) / len(y)\n",
    "    losses.append(loss)\n",
    "    \n",
    "    # computer error_rate(only for observation)\n",
    "    # divide_line = 0.5    \n",
    "    error_rate = 0\n",
    "    for i in range(len(y)):\n",
    "        if ((prob[i] > 0.5 and y[i] == 0) or (prob[i] <= 0.5 and y[i] == 1)):\n",
    "            error_rate += 1;\n",
    "    error_rate /= len(y) # wrong_y : all y\n",
    "    errors.append(error_rate)\n",
    "    \n",
    "    if T % 5 ==0 :\n",
    "        print('T=' + str(T) + ' loss=' + str(loss) + ' error=' + str(error_rate))\n",
    "    \n",
    "    # 计算损失函数关于beta每个分量的导数\n",
    "    # compute the partial derivative in terms of each component of beta.\n",
    "    # X.shape[1] is feature count. we should compute such number of partial derivatives parallelly to each sample\n",
    "    deriv = np.zeros(X.shape[1])\n",
    "#    print('deriv.shape: ', deriv.shape)   # (19,) such number of β's derivatives\n",
    "    \n",
    "    # computer each component of β's partial derivative of all samples\n",
    "    for i in range(len(y)):\n",
    "        # extract the whole line (features) of sample_i\n",
    "        Xi = np.asarray(X[i,:]).ravel()\n",
    "        # Xi is a vector\n",
    "        deriv += Xi * (prob[i] - y[i]) \n",
    "        \n",
    "    # get average of derivatives of sample/labels\n",
    "    deriv /= len(y)\n",
    "    \n",
    "    # 沿导数相反方向修改beta\n",
    "    # descent the gradient of β (in all dimensions)\n",
    "    beta -= alpha * deriv\n",
    "\n",
    "print('Gradient Descent done.')\n",
    "'''\n",
    "T=0 loss=1.1203823278066718 error=0.5037002466831122\n",
    "T=5 loss=0.6492666637968592 error=0.2910194012934196\n",
    "T=10 loss=0.6095807663133694 error=0.26668444562970867\n",
    "T=15 loss=0.5816449211566243 error=0.25888392559503964\n",
    "            ......\n",
    "'''"
   ]
  },
  {
   "cell_type": "code",
   "execution_count": null,
   "metadata": {},
   "outputs": [],
   "source": []
  },
  {
   "cell_type": "markdown",
   "metadata": {},
   "source": [
    "### Split X, y into training_set and validation_set as 7:3"
   ]
  },
  {
   "cell_type": "code",
   "execution_count": 7,
   "metadata": {},
   "outputs": [
    {
     "data": {
      "text/plain": [
       "LogisticRegression(C=1.0, class_weight=None, dual=False, fit_intercept=True,\n",
       "          intercept_scaling=1, max_iter=100, multi_class='ovr', n_jobs=1,\n",
       "          penalty='l2', random_state=None, solver='liblinear', tol=0.0001,\n",
       "          verbose=0, warm_start=False)"
      ]
     },
     "execution_count": 7,
     "metadata": {},
     "output_type": "execute_result"
    }
   ],
   "source": [
    "# sk-learn dataset split, cross validation\n",
    "from sklearn.model_selection import train_test_split, cross_val_score \n",
    "\n",
    "# training_set/testing_set : 7:3\n",
    "Xtrain, Xvali, ytrain, yvali = train_test_split(X, y, test_size=0.3, random_state=0)\n",
    "model_LR = LogisticRegression()\n",
    "model_LR.fit(Xtrain, ytrain)"
   ]
  },
  {
   "cell_type": "code",
   "execution_count": 8,
   "metadata": {},
   "outputs": [
    {
     "name": "stdout",
     "output_type": "stream",
     "text": [
      "accuracy score:  0.7926666666666666\n",
      "confusion matrix: \n",
      " [[3208  254]\n",
      " [ 679  359]]\n"
     ]
    }
   ],
   "source": [
    "# 生成各项测试指标\n",
    "from sklearn import metrics\n",
    "pred = model_LR.predict(Xvali)\n",
    "print('accuracy score: ', metrics.accuracy_score(yvali, pred))\n",
    "print('confusion matrix: \\n', metrics.confusion_matrix(yvali, pred))"
   ]
  },
  {
   "cell_type": "markdown",
   "metadata": {},
   "source": [
    "### 10份交叉验证\n",
    "### Cross Validation for cv = 10"
   ]
  },
  {
   "cell_type": "code",
   "execution_count": 9,
   "metadata": {},
   "outputs": [
    {
     "name": "stdout",
     "output_type": "stream",
     "text": [
      "accuracy_score:  0.7861785463015761  for C =  10.0\n"
     ]
    }
   ],
   "source": [
    "# cross_validation (mean of 10 times):\n",
    "C = 1e1\n",
    "accuracy_score = cross_val_score(LogisticRegression(C = C, penalty = 'l2'), X, y, scoring = 'accuracy', cv = 10).mean()\n",
    "print('accuracy_score: ', accuracy_score, ' for C = ', C)"
   ]
  },
  {
   "cell_type": "code",
   "execution_count": 10,
   "metadata": {},
   "outputs": [
    {
     "name": "stdout",
     "output_type": "stream",
     "text": [
      "accuracy_score:  0.7861118796349095  for C =  1000.0\n"
     ]
    }
   ],
   "source": [
    "C = 1e3\n",
    "accuracy_score = cross_val_score(LogisticRegression(C = C), X, y, scoring = 'accuracy', cv = 10).mean()\n",
    "print('accuracy_score: ', accuracy_score, ' for C = ', C)"
   ]
  },
  {
   "cell_type": "code",
   "execution_count": 11,
   "metadata": {},
   "outputs": [
    {
     "name": "stdout",
     "output_type": "stream",
     "text": [
      "accuracy_score:  0.7849117017385341  for C =  1.0\n"
     ]
    }
   ],
   "source": [
    "C = 1e0\n",
    "accuracy_score = cross_val_score(LogisticRegression(C = C), X, y, scoring = 'accuracy', cv = 10).mean()\n",
    "print('accuracy_score: ', accuracy_score, ' for C = ', C)"
   ]
  },
  {
   "cell_type": "code",
   "execution_count": 12,
   "metadata": {},
   "outputs": [
    {
     "name": "stdout",
     "output_type": "stream",
     "text": [
      "accuracy_score:  0.7619174793411018  for C =  0.001\n"
     ]
    }
   ],
   "source": [
    "C = 0.001\n",
    "accuracy_score = cross_val_score(LogisticRegression(C = C), X, y, scoring = 'accuracy', cv = 10).mean()\n",
    "print('accuracy_score: ', accuracy_score, ' for C = ', C)"
   ]
  },
  {
   "cell_type": "code",
   "execution_count": 13,
   "metadata": {},
   "outputs": [
    {
     "data": {
      "text/plain": [
       "LogisticRegression(C=1000.0, class_weight=None, dual=False,\n",
       "          fit_intercept=True, intercept_scaling=1, max_iter=100,\n",
       "          multi_class='ovr', n_jobs=1, penalty='l2', random_state=None,\n",
       "          solver='liblinear', tol=0.0001, verbose=0, warm_start=False)"
      ]
     },
     "execution_count": 13,
     "metadata": {},
     "output_type": "execute_result"
    }
   ],
   "source": [
    "# Finally, C = 1e3 has choosen. fit it on all data!!!\n",
    "model_LR = LogisticRegression(C=1e3)\n",
    "model_LR.fit(X, y)"
   ]
  },
  {
   "cell_type": "markdown",
   "metadata": {
    "_uuid": "053c68f27b5478aabe20e91d1a15c539569a7235"
   },
   "source": [
    "## 过拟合实验\n",
    "### overfitting test for error_rate comparsion between training_set and validation_set:"
   ]
  },
  {
   "cell_type": "code",
   "execution_count": 14,
   "metadata": {
    "_uuid": "e7e16809b6b7e8a64c8aa2f725bf7c28d1c73b2d"
   },
   "outputs": [],
   "source": [
    "# training_set/testing_set : 7:3\n",
    "Xtrain, Xvali, ytrain, yvali = train_test_split(X, y, test_size=0.3, random_state=0)"
   ]
  },
  {
   "cell_type": "code",
   "execution_count": 16,
   "metadata": {
    "_uuid": "408462cdfcb4c58311172cb2831e33d2311b3ea0"
   },
   "outputs": [
    {
     "name": "stdout",
     "output_type": "stream",
     "text": [
      "T=0 loss=1.135137140973581 error=0.5020478140775312\n",
      "T=5 loss=0.6444185582182453 error=0.29631393466044387\n",
      "T=10 loss=0.6030253387203952 error=0.27107343556529195\n",
      "T=15 loss=0.575467884391503 error=0.2631679207543576\n"
     ]
    },
    {
     "data": {
      "text/plain": [
       "'\\nT=0 loss=1.135137140973581 error=0.5020478140775312\\nT=5 loss=0.6444185582182453 error=0.29631393466044387\\nT=10 loss=0.6030253387203952 error=0.27107343556529195\\nT=15 loss=0.575467884391503 error=0.2631679207543576\\n        ......\\nT=200\\n'"
      ]
     },
     "execution_count": 16,
     "metadata": {},
     "output_type": "execute_result"
    }
   ],
   "source": [
    "np.random.seed(1)\n",
    "alpha = 1  # learning rate\n",
    "beta = np.random.randn(Xtrain.shape[1]) # 随机初始化参数beta\n",
    "error_rates_train=[]\n",
    "error_rates_vali=[]\n",
    "iteration_count = 200\n",
    "for T in range(iteration_count):\n",
    "    prob = np.array(1. / (1 + np.exp(-np.matmul(Xtrain, beta)))).ravel()  # 根据当前beta预测离职的概率\n",
    "    prob_y = list(zip(prob, ytrain))\n",
    "    loss = -sum([np.log(p) if y == 1 else np.log(1 - p) for p, y in prob_y]) / len(ytrain) # 计算损失函数的值\n",
    "    error_rate = 0\n",
    "    for i in range(len(ytrain)):\n",
    "        if ((prob[i] > 0.5 and ytrain[i] == 0) or (prob[i] <= 0.5 and ytrain[i] == 1)):\n",
    "            error_rate += 1;\n",
    "    error_rate /= len(ytrain)\n",
    "    error_rates_train.append(error_rate)\n",
    "    \n",
    "    prob_vali = np.array(1. / (1 + np.exp(-np.matmul(Xvali, beta)))).ravel()  # 根据当前beta预测离职的概率\n",
    "    prob_y_vali = list(zip(prob_vali, yvali))\n",
    "    loss = -sum([np.log(p) if y == 1 else np.log(1 - p) for p, y in prob_y_vali]) / len(yvali) # 计算损失函数的值\n",
    "    error_rate_vali = 0\n",
    "    for i in range(len(yvali)):\n",
    "        if ((prob[i] > 0.5 and yvali[i] == 0) or (prob[i] <= 0.5 and yvali[i] == 1)):\n",
    "            error_rate_vali += 1\n",
    "    error_rate_vali /= len(yvali)\n",
    "    error_rates_vali.append(error_rate_vali)\n",
    "    \n",
    "    if T % 5 ==0 :\n",
    "        print('T=' + str(T) + ' loss=' + str(loss) + ' error=' + str(error_rate))\n",
    "    # 计算损失函数关于beta每个分量的导数\n",
    "    deriv = np.zeros(Xtrain.shape[1])\n",
    "    for i in range(len(ytrain)):\n",
    "        deriv += np.asarray(Xtrain[i,:]).ravel() * (prob[i] - ytrain[i])\n",
    "    deriv /= len(ytrain)\n",
    "    # 沿导数相反方向修改beta\n",
    "    beta -= alpha * deriv\n",
    "'''\n",
    "T=0 loss=1.135137140973581 error=0.5020478140775312\n",
    "T=5 loss=0.6444185582182453 error=0.29631393466044387\n",
    "T=10 loss=0.6030253387203952 error=0.27107343556529195\n",
    "T=15 loss=0.575467884391503 error=0.2631679207543576\n",
    "        ......\n",
    "T=200\n",
    "'''"
   ]
  },
  {
   "cell_type": "code",
   "execution_count": 37,
   "metadata": {
    "_uuid": "9cc145a597508833998efac5d82b265c145cafe5"
   },
   "outputs": [
    {
     "data": {
      "image/png": "[encoded data removed]",
      "text/plain": [
       "<Figure size 432x288 with 1 Axes>"
      ]
     },
     "metadata": {},
     "output_type": "display_data"
    }
   ],
   "source": [
    "plt.plot(range(0,200), error_rates_train, 'r^', range(0, 200), error_rates_vali, 'bs')\n",
    "plt.show()"
   ]
  },
  {
   "cell_type": "markdown",
   "metadata": {
    "_uuid": "726100cbf916ee8812d429ccfd45d21c3b91632b"
   },
   "source": [
    "# 梯度检查"
   ]
  },
  {
   "cell_type": "code",
   "execution_count": 9,
   "metadata": {
    "_uuid": "e44c12545b057f5ffca368f9e5447b4aa9a3f1f5"
   },
   "outputs": [
    {
     "name": "stdout",
     "output_type": "stream",
     "text": [
      "We calculated 0.3306924011046167\n",
      "According to definition of gradient, it is 0.33069903233373665\n"
     ]
    }
   ],
   "source": [
    "np.random.seed(1)\n",
    "alpha = 1  # learning rate\n",
    "beta = np.random.randn(X.shape[1]) # 随机初始化参数beta\n",
    "\n",
    "#dF/dbeta0\n",
    "prob = np.array(1. / (1 + np.exp(-np.matmul(X, beta)))).ravel()  # 根据当前beta预测离职的概率\n",
    "prob_y = list(zip(prob, y))\n",
    "loss = -sum([np.log(p) if y == 1 else np.log(1. - p) for p, y in prob_y]) / len(y) # 计算损失函数的值\n",
    "deriv = np.zeros(X.shape[1])\n",
    "for i in range(len(y)):\n",
    "    deriv += np.asarray(X[i,:]).ravel() * (prob[i] - y[i])\n",
    "deriv /= len(y)\n",
    "print('We calculated ' + str(deriv[0]))\n",
    "\n",
    "delta = 0.0001\n",
    "beta[0] += delta\n",
    "prob = np.array(1. / (1 + np.exp(-np.matmul(X, beta)))).ravel()  # 根据当前beta预测离职的概率\n",
    "prob_y = list(zip(prob, y))\n",
    "loss2 = -sum([np.log(p) if y == 1 else np.log(1. - p) for p, y in prob_y]) / len(y) # 计算损失函数的值\n",
    "shouldbe = (loss2 - loss) / delta # (F(b0+delta,b1,...,bn) - F(b0,...bn)) / delta\n",
    "print('According to definition of gradient, it is ' + str(shouldbe))"
   ]
  },
  {
   "cell_type": "code",
   "execution_count": null,
   "metadata": {
    "_uuid": "3d1a7db52accdeb216085df337cd05e2119e3c71",
    "collapsed": true
   },
   "outputs": [],
   "source": []
  }
 ],
 "metadata": {
  "kernelspec": {
   "display_name": "Python 3",
   "language": "python",
   "name": "python3"
  },
  "language_info": {
   "codemirror_mode": {
    "name": "ipython",
    "version": 3
   },
   "file_extension": ".py",
   "mimetype": "text/x-python",
   "name": "python",
   "nbconvert_exporter": "python",
   "pygments_lexer": "ipython3",
   "version": "3.6.5"
  }
 },
 "nbformat": 4,
 "nbformat_minor": 1
}
